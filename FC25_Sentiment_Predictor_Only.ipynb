{
  "cells": [
    {
      "cell_type": "code",
      "source": [
        "# 📊 FC25 Sentiment Predictor Notebook\n",
        "\n",
        "# ✅ STEP 1: Upload Required Files\n",
        "from google.colab import files\n",
        "uploaded = files.upload()\n",
        "\n",
        "# Upload:\n",
        "# - model.pkl\n",
        "# - vectorizer.pkl\n",
        "# - raw_comments.csv\n",
        "\n",
        "# ✅ STEP 2: Load Model and Vectorizer\n",
        "import pickle\n",
        "import pandas as pd\n",
        "\n",
        "model_file = [f for f in uploaded if f.startswith(\"model\") and f.endswith(\".pkl\")][0]\n",
        "vectorizer_file = [f for f in uploaded if f.startswith(\"vectorizer\") and f.endswith(\".pkl\")][0]\n",
        "comment_file = [f for f in uploaded if f.endswith(\".csv\")][0]\n",
        "\n",
        "with open(model_file, \"rb\") as f:\n",
        "    model = pickle.load(f)\n",
        "\n",
        "with open(vectorizer_file, \"rb\") as f:\n",
        "    vectorizer = pickle.load(f)\n",
        "\n",
        "# ✅ STEP 3: Load and Clean Raw Comments\n",
        "df = pd.read_csv(comment_file)\n",
        "if df.columns[0] != \"Comment\":\n",
        "    df.columns = [\"Comment\"]\n",
        "\n",
        "df = df.drop_duplicates()\n",
        "df = df[df[\"Comment\"].str.strip() != \"\"]\n",
        "\n",
        "# ✅ STEP 4: Predict Sentiment with Confidence Threshold\n",
        "X_new = vectorizer.transform(df[\"Comment\"])\n",
        "probs = model.predict_proba(X_new)\n",
        "preds = model.predict(X_new)\n",
        "max_probs = probs.max(axis=1)\n",
        "\n",
        "confidence_threshold = 0.60\n",
        "final_labels = [label if prob >= confidence_threshold else \"Uncertain\"\n",
        "                for label, prob in zip(preds, max_probs)]\n",
        "\n",
        "df[\"Sentiment\"] = final_labels\n",
        "df = df[df[\"Sentiment\"] != \"Uncertain\"]  # Discard uncertain predictions\n",
        "\n",
        "# ✅ STEP 5: Export Labeled Comments\n",
        "output_path = \"labeled_comments.csv\"\n",
        "df.to_csv(output_path, index=False)\n",
        "files.download(output_path)\n"
      ],
      "metadata": {
        "id": "DMsyhpKUVnD2",
        "outputId": "28966a20-4df6-462c-9012-792473510721",
        "colab": {
          "base_uri": "https://localhost:8080/"
        }
      },
      "id": "DMsyhpKUVnD2",
      "execution_count": 16,
      "outputs": [
        {
          "output_type": "execute_result",
          "data": {
            "text/plain": [
              "('FC25_Trainer_GDrive.ipynb', 'FC25_Predictor_GDrive.ipynb')"
            ]
          },
          "metadata": {},
          "execution_count": 16
        }
      ]
    }
  ],
  "metadata": {
    "colab": {
      "provenance": []
    },
    "language_info": {
      "name": "python"
    },
    "kernelspec": {
      "name": "python3",
      "display_name": "Python 3"
    }
  },
  "nbformat": 4,
  "nbformat_minor": 5
}